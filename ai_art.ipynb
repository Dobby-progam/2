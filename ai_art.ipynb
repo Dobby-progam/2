{
  "cells": [
    {
      "cell_type": "markdown",
      "metadata": {
        "id": "view-in-github",
        "colab_type": "text"
      },
      "source": [
        "<a href=\"https://colab.research.google.com/github/Dobby-progam/2/blob/main/ai_art.ipynb\" target=\"_parent\"><img src=\"https://colab.research.google.com/assets/colab-badge.svg\" alt=\"Open In Colab\"/></a>"
      ]
    },
    {
      "cell_type": "markdown",
      "metadata": {
        "id": "SaWSCUGHQ3n0"
      },
      "source": [
        "just run those to get evrything running "
      ]
    },
    {
      "cell_type": "code",
      "execution_count": null,
      "metadata": {
        "id": "sRvMEKdSjpZL"
      },
      "outputs": [],
      "source": [
        "!nvidia-smi"
      ]
    },
    {
      "cell_type": "code",
      "execution_count": null,
      "metadata": {
        "id": "RWKfnEDpjskA"
      },
      "outputs": [],
      "source": [
        "!pip install diffusers\n",
        "!pip install transformers scipy ftfy accelerate"
      ]
    },
    {
      "cell_type": "code",
      "execution_count": null,
      "metadata": {
        "id": "lA7pmAxujv1F"
      },
      "outputs": [],
      "source": [
        "import torch\n",
        "from diffusers import StableDiffusionPipeline\n",
        "model_id = \"runwayml/stable-diffusion-v1-5\"\n",
        "pipe = StableDiffusionPipeline.from_pretrained(model_id, torch_dtype=torch.float16)\n",
        "pipe = pipe.to(\"cuda\")"
      ]
    },
    {
      "cell_type": "markdown",
      "metadata": {
        "id": "3r6wTWDcQUE1"
      },
      "source": [
        "**Instructions**\n",
        "* promt enter what you want it to generate, please be assurate \n",
        "\n",
        "* promt enter what you want it to generate, please be assurate \n",
        "\n",
        "* seed, can be eddit but is empty its random\n",
        "* steps, how many steps the progam does, how more how better, but slower. (anything above 999 errors or put outs NFWS content)"
      ]
    },
    {
      "cell_type": "code",
      "execution_count": null,
      "metadata": {
        "colab": {
          "background_save": true
        },
        "id": "z7DGt20cj0TA"
      },
      "outputs": [],
      "source": [
        "\n",
        "import random\n",
        "prompt = \"a Vivarium with one lizzard in its natrual habit photo realistic\" #@param {type:\"string\"}\n",
        "seed = None #@param {type:\"number\"}\n",
        "steps = 999 #@param {type:\"number\"}\n",
        "if seed is None:\n",
        "    random.seed(seed)\n",
        "seed = random.randint(1, 999)\n",
        "print(f'your picked seed = {seed}')\n",
        "if steps == 0:\n",
        "  print(\"the steps can't be 0!\")\n",
        "if not prompt :\n",
        "  print(\"your promt can't be empty please stop this\")\n",
        "generator = torch.Generator().manual_seed(seed)\n",
        "\n",
        "image = pipe(prompt, num_inference_steps=steps, generator=generator).images[0]\n",
        "\n",
        "image"
      ]
    }
  ],
  "metadata": {
    "accelerator": "GPU",
    "colab": {
      "provenance": [],
      "authorship_tag": "ABX9TyPMOxT1mftP6Mye43Q7V6hA",
      "include_colab_link": true
    },
    "gpuClass": "standard",
    "kernelspec": {
      "display_name": "Python 3",
      "name": "python3"
    },
    "language_info": {
      "name": "python"
    }
  },
  "nbformat": 4,
  "nbformat_minor": 0
}